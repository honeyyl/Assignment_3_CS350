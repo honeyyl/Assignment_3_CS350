{
 "cells": [
  {
   "cell_type": "markdown",
   "id": "e4838967",
   "metadata": {},
   "source": [
    "# Assignment 3"
   ]
  },
  {
   "cell_type": "markdown",
   "id": "0f646f32-4c31-4ea9-ae13-c40abe639a96",
   "metadata": {},
   "source": [
    "# Setup in Neo4j\n",
    "\n",
    "- Import fraud-detection-50.dump file into project\n",
    "- Create new DMBS from dump\n",
    "    - Note: Match password to display results in Jupyter Notebook\n",
    "- Install APOC and GDS plugins\n",
    "- Open DBMS in browser"
   ]
  },
  {
   "cell_type": "markdown",
   "id": "7997ebb6",
   "metadata": {},
   "source": [
    "# Connect to the neo4j server and user Neo4j GDS"
   ]
  },
  {
   "cell_type": "code",
   "execution_count": null,
   "id": "70ac19b6",
   "metadata": {},
   "outputs": [],
   "source": [
    "import pandas as pd\n",
    "import os\n",
    "\n",
    "from neo4j import GraphDatabase\n",
    "from graphdatascience import GraphDataScience"
   ]
  },
  {
   "cell_type": "markdown",
   "id": "0d926e39",
   "metadata": {},
   "source": [
    "# Make an instance of Neo4j driver and GDS"
   ]
  },
  {
   "cell_type": "code",
   "execution_count": null,
   "id": "f6d271b2",
   "metadata": {},
   "outputs": [],
   "source": [
    "NEO4J_URI = os.environ.get(\"NEO4J_URI\", \"bolt://localhost:7687\") #Note: this is the default URI for the Neo4j Sandbox\n",
    "\n",
    "NEO4J_AUTH = ( \"neo4j\",  \"12345678\") #Note: this is the default password for the Neo4j Sandbox\n",
    "\n",
    "driver = GraphDatabase.driver(NEO4J_URI, auth=NEO4J_AUTH)\n",
    "\n",
    "gds = GraphDataScience(NEO4J_URI, auth=NEO4J_AUTH)"
   ]
  },
  {
   "cell_type": "markdown",
   "id": "2be269fc",
   "metadata": {},
   "source": [
    "# Create the SHARED_PII Relationship (Step 5)\n",
    "```\n",
    "MATCH ( c:Client )-[ :HAS_EMAIL |:HAS_PHONE |:HAS_SSN ] -> (n) <-\n",
    "[ :HAS_EMAIL |:HAS_PHONE |:HAS_SSN ]- ( d:Client )\n",
    "WHERE id(c) < id(d)\n",
    "WITH c, d, count(*) AS cnt\n",
    "MERGE (c) - [ :SHARED_PII { count: cnt } ] -> (d)\n",
    "```"
   ]
  },
  {
   "cell_type": "markdown",
   "id": "287847b3",
   "metadata": {},
   "source": [
    "# Create the projection graph (Step 6)\n",
    "```\n",
    "CALL gds.graph.project(\n",
    " 'clientClusters' ,\n",
    " { Client: {\n",
    " label: 'Client' }\n",
    " },\n",
    " { SHARED_PII: {\n",
    " type: 'SHARED_PII',\n",
    "orientation: 'UNDIRECTED',\n",
    "properties: {\n",
    " count: {\n",
    " property: 'count' }\n",
    " }\n",
    " }\n",
    " }\n",
    " )\n",
    " YIELD graphName, nodeCount, relationshipCount\n",
    " ```"
   ]
  },
  {
   "cell_type": "markdown",
   "id": "b9f684ba",
   "metadata": {},
   "source": [
    "# Run the WCC Algorithm (Step 7)\n",
    "```\n",
    "CALL gds.wcc.stream(\n",
    "  'clientClusters',\n",
    "  {\n",
    "    nodeLabels: ['Client'],\n",
    "    relationshipTypes: ['SHARED_PII'],\n",
    "    consecutiveIds: true\n",
    "  }\n",
    ")\n",
    "YIELD nodeId, componentId\n",
    "RETURN gds.util.asNode(nodeId).id AS clientId, componentId AS clusterId\n",
    "```"
   ]
  },
  {
   "cell_type": "markdown",
   "id": "4120a5f6",
   "metadata": {},
   "source": [
    "# Display results in Jupyter Notebook"
   ]
  },
  {
   "cell_type": "code",
   "execution_count": null,
   "id": "43a1fc51",
   "metadata": {},
   "outputs": [],
   "source": [
    "driver = GraphDatabase.driver(\"bolt://localhost:7687\", auth=(\"neo4j\", \"12345678\")) #NOTE: change the password and bolt port to match your local setup\n",
    "\n",
    "with driver.session() as session:\n",
    "    result = session.run(\"CALL gds.wcc.stream('clientClusters', {nodeLabels: ['Client'], relationshipTypes: ['SHARED_PII'], consecutiveIds: true}) YIELD nodeId, componentId RETURN gds.util.asNode(nodeId).id AS clientId, componentId AS clusterId\")\n",
    "    df = pd.DataFrame([record.data() for record in result])\n",
    "print(df)"
   ]
  },
  {
   "cell_type": "markdown",
   "id": "ee8300a2",
   "metadata": {},
   "source": [
    "# Identify Fraud Rings (Step 8)\n",
    "```\n",
    "CALL gds.wcc.stream(\n",
    "  'clientClusters',\n",
    "  {\n",
    "    nodeLabels: ['Client'],\n",
    "    relationshipTypes: ['SHARED_PII'],\n",
    "    consecutiveIds: true\n",
    "  }\n",
    ")\n",
    "YIELD nodeId, componentId\n",
    " WITH gds.util.asNode(nodeId) AS clientId , componentId AS clusterId\n",
    " WITH clusterId, collect(clientId.id) AS clients\n",
    "\n",
    " WITH clusterId, clients, size(clients) AS clusterSize WHERE clusterSize >= 2\n",
    " UNWIND clients AS client\n",
    " MATCH (c:Client) WHERE c.id = client\n",
    " SET c.secondPartyFraudRing = clusterId\n",
    " ```"
   ]
  },
  {
   "cell_type": "markdown",
   "id": "0e120734",
   "metadata": {},
   "source": [
    "# Create bipartiite graph (Step 9)\n",
    "```\n",
    "MATCH (c:Client) WHERE c.secondPartyFraudRing IS NOT NULL\n",
    "WITH collect(c) as clients\n",
    "MATCH (n) WHERE n:Email OR n:Phone OR n:SSN\n",
    "WITH clients, collect(n) AS piis\n",
    "WITH clients + piis AS nodes\n",
    "MATCH (c:Client) -[:HAS_EMAIL | :HAS_PHONE | :HAS_SSN]->(p)\n",
    "WHERE c.secondPartyFraudRing IS NOT NULL\n",
    "WITH nodes, collect({source: c, target: p}) as relationships\n",
    "CALL gds.graph.project.cypher(\n",
    "  'similarity',\n",
    "  \"UNWIND $nodes as n RETURN id(n) AS id, labels(n) AS labels\",\n",
    "  \"UNWIND $relationships as r RETURN id(r['source']) AS source, id(r['target']) AS target, 'HAS_PII' as type\",\n",
    "  { parameters: { nodes: nodes, relationships: relationships } }\n",
    ")\n",
    "YIELD graphName, nodeCount, relationshipCount\n",
    "RETURN graphName, nodeCount, relationshipCount\n",
    "```"
   ]
  },
  {
   "cell_type": "markdown",
   "id": "a1fc31e0",
   "metadata": {},
   "source": [
    "# Run the Node Similarity Algorithm (Step 10)\n",
    "```\n",
    "CALL gds.nodeSimilarity.mutate(\n",
    "  'similarity',\n",
    "  {\n",
    "    mutateProperty: 'jaccardScore',\n",
    "    mutateRelationshipType: 'SIMILAR_TO',\n",
    "    topK: 15\n",
    "  }\n",
    ")\n",
    "YIELD nodesCompared, relationshipsWritten, computeMillis;\n",
    "```\n"
   ]
  },
  {
   "cell_type": "markdown",
   "id": "43ed49c9",
   "metadata": {},
   "source": [
    "# Write similarity relationships to the graph (Step 11)\n",
    "```\n",
    "CALL gds.graph.writeRelationship(\n",
    "  'similarity',\n",
    "  'SIMILAR_TO',\n",
    "  'jaccardScore'\n",
    ")\n",
    "```"
   ]
  },
  {
   "cell_type": "markdown",
   "id": "df398dcf",
   "metadata": {},
   "source": [
    "# Degree centrality score (Step 12)\n",
    "```\n",
    "CALL gds.degree.write(\n",
    "  'similarity',\n",
    "  {\n",
    "    nodeLabels: ['Client'],\n",
    "    relationshipTypes: ['SIMILAR_TO'],\n",
    "    relationshipWeightProperty: 'jaccardScore',\n",
    "    writeProperty: 'secondPartyFraudScore'\n",
    "  }\n",
    ")\n",
    "```"
   ]
  },
  {
   "cell_type": "markdown",
   "id": "e2828950",
   "metadata": {},
   "source": [
    "# Flag clients as fraudsters (Step 13)\n",
    "```\n",
    "MATCH (c:Client)\n",
    "WHERE c.secondPartyFraudScore IS NOT NULL\n",
    "WITH percentileCont(c.secondPartyFraudScore, 0.95) AS threshold\n",
    "MATCH (c:Client)\n",
    "WHERE c.secondPartyFraudScore > threshold\n",
    "SET c:SecondPartyFraudster\n",
    "```"
   ]
  },
  {
   "cell_type": "markdown",
   "id": "c117443a",
   "metadata": {},
   "source": [
    "# List clients with potential fraudster labels (Step 14)\n",
    "```\n",
    "MATCH (c:Client)\n",
    "WHERE c:SecondPartyFraudster\n",
    "RETURN c.name, c.id\n",
    "```"
   ]
  },
  {
   "cell_type": "markdown",
   "id": "8650e96b",
   "metadata": {},
   "source": [
    "# Display results in Jupyter Notebook"
   ]
  },
  {
   "cell_type": "code",
   "execution_count": null,
   "id": "ba66fe21",
   "metadata": {},
   "outputs": [],
   "source": [
    "with driver.session() as session:\n",
    "    result = session.run(\"MATCH (c:Client) WHERE c:SecondPartyFraudster RETURN c.name, c.id\")\n",
    "    df = pd.DataFrame([record.data() for record in result])\n",
    "print(df)"
   ]
  }
 ],
 "metadata": {
  "kernelspec": {
   "display_name": "Python 3 (ipykernel)",
   "language": "python",
   "name": "python3"
  },
  "language_info": {
   "codemirror_mode": {
    "name": "ipython",
    "version": 3
   },
   "file_extension": ".py",
   "mimetype": "text/x-python",
   "name": "python",
   "nbconvert_exporter": "python",
   "pygments_lexer": "ipython3",
   "version": "3.12.7"
  }
 },
 "nbformat": 4,
 "nbformat_minor": 5
}

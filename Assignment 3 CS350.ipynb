{
 "cells": [
  {
   "cell_type": "markdown",
   "id": "e4838967",
   "metadata": {},
   "source": [
    "# Assignment 3"
   ]
  },
  {
   "cell_type": "code",
   "execution_count": 2,
   "id": "da17c969",
   "metadata": {},
   "outputs": [],
   "source": [
    "# Imports\n",
    "import pandas as pd\n",
    "import os\n",
    "from neo4j import GraphDatabase\n",
    "from graphdatascience import GraphDataScience"
   ]
  },
  {
   "cell_type": "markdown",
   "id": "2a22cb29",
   "metadata": {},
   "source": [
    "### Connect to the Neo4j server and to use Neo4j GDS"
   ]
  },
  {
   "cell_type": "code",
   "execution_count": 12,
   "id": "1275b833",
   "metadata": {},
   "outputs": [],
   "source": [
    "NEO4J_URI = os.environ.get(\"NEO4J_URI\", \"bolt://localhost:7687\")"
   ]
  },
  {
   "cell_type": "code",
   "execution_count": 16,
   "id": "a72cec7f",
   "metadata": {},
   "outputs": [],
   "source": [
    "NEO4J_AUTH = ( \"neo4j\",  \"12072003\") ### Make sure the password is yours"
   ]
  },
  {
   "cell_type": "code",
   "execution_count": 14,
   "id": "fce6b245",
   "metadata": {},
   "outputs": [],
   "source": [
    "driver = GraphDatabase.driver(NEO4J_URI, auth=NEO4J_AUTH)"
   ]
  },
  {
   "cell_type": "code",
   "execution_count": 15,
   "id": "077e2cb4",
   "metadata": {
    "scrolled": false
   },
   "outputs": [],
   "source": [
    "gds = GraphDataScience(NEO4J_URI, auth=NEO4J_AUTH)"
   ]
  },
  {
   "cell_type": "code",
   "execution_count": null,
   "id": "b3902ef5",
   "metadata": {},
   "outputs": [],
   "source": [
    "### Cypher Query to return clientId and clusterId\n",
    "CALL gds.wcc.stream('clientClusters')\n",
    "YIELD nodeId, componentId\n",
    "RETURN gds.util.asNode(nodeId).id AS clientId, componentId AS clusterId"
   ]
  }
 ],
 "metadata": {
  "kernelspec": {
   "display_name": "Python 3 (ipykernel)",
   "language": "python",
   "name": "python3"
  },
  "language_info": {
   "codemirror_mode": {
    "name": "ipython",
    "version": 3
   },
   "file_extension": ".py",
   "mimetype": "text/x-python",
   "name": "python",
   "nbconvert_exporter": "python",
   "pygments_lexer": "ipython3",
   "version": "3.10.9"
  }
 },
 "nbformat": 4,
 "nbformat_minor": 5
}

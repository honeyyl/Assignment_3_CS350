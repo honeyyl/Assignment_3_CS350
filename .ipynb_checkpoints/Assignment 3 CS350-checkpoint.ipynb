{
 "cells": [
  {
   "cell_type": "markdown",
   "id": "e4838967",
   "metadata": {},
   "source": [
    "# Assignment 3"
   ]
  },
  {
   "cell_type": "code",
   "execution_count": 1,
   "id": "da17c969",
   "metadata": {},
   "outputs": [],
   "source": [
    "# Imports\n",
    "import pandas as pd\n",
    "import os\n",
    "from neo4j import GraphDatabase\n",
    "from graphdatascience import GraphDataScience"
   ]
  },
  {
   "cell_type": "markdown",
   "id": "2a22cb29",
   "metadata": {},
   "source": [
    "### Connect to the Neo4j server and to use Neo4j GDS"
   ]
  },
  {
   "cell_type": "code",
   "execution_count": 2,
   "id": "1275b833",
   "metadata": {},
   "outputs": [],
   "source": [
    "NEO4J_URI = os.environ.get(\"NEO4J_URI\", \"bolt://localhost:7687\")"
   ]
  },
  {
   "cell_type": "code",
   "execution_count": 3,
   "id": "a72cec7f",
   "metadata": {},
   "outputs": [],
   "source": [
    "NEO4J_AUTH = ( \"neo4j\",  \"12072003\") ### Make sure the password is yours"
   ]
  },
  {
   "cell_type": "code",
   "execution_count": 4,
   "id": "fce6b245",
   "metadata": {},
   "outputs": [],
   "source": [
    "driver = GraphDatabase.driver(NEO4J_URI, auth=NEO4J_AUTH)"
   ]
  },
  {
   "cell_type": "code",
   "execution_count": 11,
   "id": "077e2cb4",
   "metadata": {
    "scrolled": false
   },
   "outputs": [],
   "source": [
    "gds = GraphDataScience(NEO4J_URI, auth=NEO4J_AUTH)"
   ]
  },
  {
   "cell_type": "markdown",
   "id": "fe7aeb72",
   "metadata": {},
   "source": [
    "### Step 5 Create the SHARED_PII relationship (between clients) and the resulting subgraph"
   ]
  },
  {
   "cell_type": "code",
   "execution_count": 12,
   "id": "8d3371bb",
   "metadata": {},
   "outputs": [],
   "source": [
    "# MATCH (c1:Client)-[:HAS_EMAIL|:HAS_PHONE|:HAS_SSN]->(pii)<-[:HAS_EMAIL|:HAS_PHONE|:HAS_SSN]-(c2:Client)\n",
    "# WHERE c1 <> c2\n",
    "# MERGE (c1)-[:SHARED_PII]->(c2)"
   ]
  },
  {
   "cell_type": "markdown",
   "id": "69377ecb",
   "metadata": {},
   "source": [
    "### Step 6 Cypher Query to return clientId and clusterId"
   ]
  },
  {
   "cell_type": "code",
   "execution_count": 13,
   "id": "b3902ef5",
   "metadata": {},
   "outputs": [],
   "source": [
    "# CALL gds.wcc.stream('clientClusters')\n",
    "# YIELD nodeId, componentId\n",
    "# RETURN gds.util.asNode(nodeId).id AS clientId, componentId AS clusterId\n"
   ]
  },
  {
   "cell_type": "code",
   "execution_count": null,
   "id": "807fa29f",
   "metadata": {},
   "outputs": [],
   "source": []
  }
 ],
 "metadata": {
  "kernelspec": {
   "display_name": "Python 3 (ipykernel)",
   "language": "python",
   "name": "python3"
  },
  "language_info": {
   "codemirror_mode": {
    "name": "ipython",
    "version": 3
   },
   "file_extension": ".py",
   "mimetype": "text/x-python",
   "name": "python",
   "nbconvert_exporter": "python",
   "pygments_lexer": "ipython3",
   "version": "3.10.9"
  }
 },
 "nbformat": 4,
 "nbformat_minor": 5
}

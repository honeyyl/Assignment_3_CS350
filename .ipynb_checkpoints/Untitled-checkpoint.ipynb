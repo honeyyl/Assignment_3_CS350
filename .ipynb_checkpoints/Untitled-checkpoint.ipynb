{
 "cells": [
  {
   "cell_type": "code",
   "execution_count": null,
   "id": "b9aaf366-f66d-47c5-bfb1-dff480a34ce0",
   "metadata": {},
   "outputs": [],
   "source": [
    "import pandas as pd\n",
    "from neo4j import GraphDatabase\n",
    "\n",
    "driver = GraphDatabase.driver(\"bolt://localhost:7687\", auth=(\"neo4j\", \"password\"))\n",
    "\n",
    "with driver.session() as session:\n",
    "    result = session.run(\"CALL gds.wcc.stream('clientClusters', {nodeLabels: ['Client'], relationshipTypes: ['SHARED_PII'], consecutiveIds: true}) YIELD nodeId, componentId RETURN gds.util.asNode(nodeId).id AS clientId, componentId AS clusterId\")\n",
    "    df = pd.DataFrame([record.data() for record in result])\n",
    "print(df)\n"
   ]
  },
  {
   "cell_type": "code",
   "execution_count": null,
   "id": "b94322d1-de48-48c7-bc55-bf0ac13fee40",
   "metadata": {},
   "outputs": [],
   "source": []
  }
 ],
 "metadata": {
  "kernelspec": {
   "display_name": "Python 3 (ipykernel)",
   "language": "python",
   "name": "python3"
  },
  "language_info": {
   "codemirror_mode": {
    "name": "ipython",
    "version": 3
   },
   "file_extension": ".py",
   "mimetype": "text/x-python",
   "name": "python",
   "nbconvert_exporter": "python",
   "pygments_lexer": "ipython3",
   "version": "3.12.7"
  }
 },
 "nbformat": 4,
 "nbformat_minor": 5
}
